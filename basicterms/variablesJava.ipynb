{
 "cells": [
  {
   "cell_type": "markdown",
   "metadata": {},
   "source": [
    "## Variables in Java"
   ]
  },
  {
   "cell_type": "markdown",
   "metadata": {},
   "source": [
    "A variable is a `container` which holds the value while the Java program is executed. A variable is assigned with a `data type`. Variable is a name of `memory location` that stores some data specified by the user."
   ]
  },
  {
   "cell_type": "markdown",
   "metadata": {},
   "source": [
    "### Variable declaration in Java"
   ]
  },
  {
   "cell_type": "markdown",
   "metadata": {},
   "source": [
    "<img src=\"../img/4.png\" width=\"400px\" height=\"300px\">"
   ]
  },
  {
   "cell_type": "markdown",
   "metadata": {},
   "source": [
    "A variable can be declared in java by following the above structure that is `datatype variable_name = value;` "
   ]
  },
  {
   "cell_type": "code",
   "execution_count": 3,
   "metadata": {},
   "outputs": [],
   "source": [
    "int salary = 20000; //here i have declared a variable named salary with a datatype of integer and a value of 20000"
   ]
  },
  {
   "cell_type": "markdown",
   "metadata": {},
   "source": [
    "Now in the above case when we created a variable what happens in the behind is that, java makes a **memory location** and assigns that memory location to the variable named salary and then stores it value in the memory location."
   ]
  },
  {
   "cell_type": "markdown",
   "metadata": {},
   "source": [
    "### How to name a variable ?"
   ]
  },
  {
   "cell_type": "markdown",
   "metadata": {},
   "source": [
    "Few points to be noted while naming a variable are as follows:"
   ]
  },
  {
   "cell_type": "markdown",
   "metadata": {},
   "source": [
    "* All variables should begin with a letter (A to Z or a to z), currency character (dollar) or an underscore (_).\n",
    "* After the first character, variables can have any combination of characters.\n",
    "* A keyword cannot be used as a variable name.\n",
    "* Most importantly, variable names are case sensitive.\n",
    "* Examples of illegal identifiers: 1car, -car.\n",
    "* Examples of legal variable names: car, $car, _car."
   ]
  },
  {
   "cell_type": "markdown",
   "metadata": {},
   "source": [
    "*now let us just try to output the variable salary that we have just created, we will learn more about output and input in the future*"
   ]
  },
  {
   "cell_type": "code",
   "execution_count": 5,
   "metadata": {},
   "outputs": [
    {
     "name": "stdout",
     "output_type": "stream",
     "text": [
      "20000\r\n"
     ]
    }
   ],
   "source": [
    "System.out.println(salary);"
   ]
  },
  {
   "cell_type": "markdown",
   "metadata": {},
   "source": [
    "**This is just a head start into the variables in java you will learn more about them in the coming days**"
   ]
  }
 ],
 "metadata": {
  "kernelspec": {
   "display_name": "Java",
   "language": "java",
   "name": "java"
  },
  "language_info": {
   "codemirror_mode": "java",
   "file_extension": ".jshell",
   "mimetype": "text/x-java-source",
   "name": "Java",
   "pygments_lexer": "java",
   "version": "14.0.2+12-46"
  }
 },
 "nbformat": 4,
 "nbformat_minor": 4
}

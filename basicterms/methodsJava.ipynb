{
 "cells": [
  {
   "cell_type": "markdown",
   "metadata": {},
   "source": [
    "## Methods"
   ]
  },
  {
   "cell_type": "markdown",
   "metadata": {},
   "source": [
    "Another name for method is function. A method is basically a behavior. It is in methods where the logics are written, data is manipulated and all the actions are executed. That is a method can be considered as doing a action like a person can walk, jump, run these things can be considered as methods."
   ]
  },
  {
   "cell_type": "markdown",
   "metadata": {},
   "source": [
    "<img src=\"../img/5.png\" width=\"500px\" height=\"300px\">"
   ]
  },
  {
   "cell_type": "markdown",
   "metadata": {},
   "source": [
    "**Rules to be followed while naming a method**"
   ]
  },
  {
   "cell_type": "markdown",
   "metadata": {},
   "source": [
    "* All method names should begin with a letter (A to Z or a to z), currency character (dollar) or an underscore (_).\n",
    "* After the first character, method names can have any combination of characters.\n",
    "* A key word cannot be used as an method names.\n",
    "* Most importantly, method names are case sensitive.\n",
    "* Examples of illegal method names: 1run, -run.\n",
    "* Examples of legal method names: run, $run, _run, __1_run."
   ]
  },
  {
   "cell_type": "markdown",
   "metadata": {},
   "source": [
    "**The basic syntax for defining a method in java is as follows:**"
   ]
  },
  {
   "cell_type": "markdown",
   "metadata": {},
   "source": [
    "```\n",
    "access_modifier return_type method_name (parameter_list) {\n",
    "\n",
    " code goes here\n",
    " \n",
    "}\n",
    "```"
   ]
  },
  {
   "cell_type": "code",
   "execution_count": 5,
   "metadata": {},
   "outputs": [],
   "source": [
    "// we are defining a method with public modifier, which do not return any data (void), name of the method is print_hello\n",
    "// this method just prints Hello when we call it.\n",
    "\n",
    "public void print_hello (){\n",
    "    \n",
    "  System.out.println(\"Hello\");\n",
    "    \n",
    "}"
   ]
  },
  {
   "cell_type": "markdown",
   "metadata": {},
   "source": [
    "In order to call a method the basic syntax is `method_name(parameter_list);`"
   ]
  },
  {
   "cell_type": "markdown",
   "metadata": {},
   "source": [
    "Now let us call the above define method and see what we get as the output."
   ]
  },
  {
   "cell_type": "code",
   "execution_count": 4,
   "metadata": {},
   "outputs": [
    {
     "name": "stdout",
     "output_type": "stream",
     "text": [
      "Hello\r\n"
     ]
    }
   ],
   "source": [
    "print_hello(); //here we are not passing any parameter_list as the function does not accept any parameter."
   ]
  },
  {
   "cell_type": "markdown",
   "metadata": {},
   "source": [
    "### Parameterized Methods"
   ]
  },
  {
   "cell_type": "markdown",
   "metadata": {},
   "source": [
    "Now let us checkout a method that accepts a list of parameters."
   ]
  },
  {
   "cell_type": "markdown",
   "metadata": {},
   "source": [
    "A method can accept single or more parameters."
   ]
  },
  {
   "cell_type": "markdown",
   "metadata": {},
   "source": [
    "* if the method is accepting a single parameter then the syntax will be like this:"
   ]
  },
  {
   "cell_type": "markdown",
   "metadata": {},
   "source": [
    "```\n",
    "access_modifier return_type method_name (datatype variable_name) {\n",
    "\n",
    " code goes here\n",
    " \n",
    "}\n",
    "```\n",
    "\n",
    "```\n",
    " Now let us check out a example.\n",
    "```"
   ]
  },
  {
   "cell_type": "code",
   "execution_count": 4,
   "metadata": {},
   "outputs": [],
   "source": [
    "// here we are defining a method that accepts a parameter of integer datatype and prints it out.\n",
    "\n",
    "public void print_parameter(int i){\n",
    "\n",
    "  System.out.println(i);\n",
    "  \n",
    "}"
   ]
  },
  {
   "cell_type": "markdown",
   "metadata": {},
   "source": [
    "```\n",
    " Now let us check out the output.\n",
    "``` "
   ]
  },
  {
   "cell_type": "code",
   "execution_count": 5,
   "metadata": {},
   "outputs": [
    {
     "name": "stdout",
     "output_type": "stream",
     "text": [
      "20\r\n"
     ]
    }
   ],
   "source": [
    "print_parameter(20); //calling the method"
   ]
  },
  {
   "cell_type": "markdown",
   "metadata": {},
   "source": [
    "*now just a quick work for you, change the value that you gives into the print_parameter() method and checkout what output you get*"
   ]
  },
  {
   "cell_type": "markdown",
   "metadata": {},
   "source": [
    "* if the method is accepting a multiple number of parameters then the syntax will be like this:"
   ]
  },
  {
   "cell_type": "markdown",
   "metadata": {},
   "source": [
    "```\n",
    "access_modifier return_type method_name (datatype variable_name, datatype variable_name, datatype variable_name ... etc) {\n",
    "\n",
    " code goes here\n",
    " \n",
    "}\n",
    "```\n",
    "\n",
    "```\n",
    " Now let us check out a example.\n",
    "```"
   ]
  },
  {
   "cell_type": "code",
   "execution_count": 2,
   "metadata": {},
   "outputs": [],
   "source": [
    "// here we are defining a method that accepts multiple number of parameter of integer datatype and prints its sum.\n",
    "\n",
    "public void print_parameter(int i, int j, int k){\n",
    "\n",
    "  System.out.println(i+j+k);\n",
    "  \n",
    "}"
   ]
  },
  {
   "cell_type": "markdown",
   "metadata": {},
   "source": [
    "```\n",
    " Now let us check out the output.\n",
    "``` "
   ]
  },
  {
   "cell_type": "code",
   "execution_count": 3,
   "metadata": {},
   "outputs": [
    {
     "name": "stdout",
     "output_type": "stream",
     "text": [
      "60\r\n"
     ]
    }
   ],
   "source": [
    "print_parameter(20,10,30); //calling the method"
   ]
  },
  {
   "cell_type": "markdown",
   "metadata": {},
   "source": [
    "**This is just a head start into the methods in java you will learn more about them in the coming days**"
   ]
  }
 ],
 "metadata": {
  "kernelspec": {
   "display_name": "Java",
   "language": "java",
   "name": "java"
  },
  "language_info": {
   "codemirror_mode": "java",
   "file_extension": ".jshell",
   "mimetype": "text/x-java-source",
   "name": "Java",
   "pygments_lexer": "java",
   "version": "14.0.2+12-46"
  }
 },
 "nbformat": 4,
 "nbformat_minor": 4
}
